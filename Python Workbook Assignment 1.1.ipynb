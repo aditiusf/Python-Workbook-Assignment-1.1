{
 "cells": [
  {
   "cell_type": "markdown",
   "metadata": {},
   "source": [
    "Import Libraries"
   ]
  },
  {
   "cell_type": "code",
   "execution_count": 2,
   "metadata": {},
   "outputs": [],
   "source": [
    "import pandas as pd"
   ]
  },
  {
   "cell_type": "markdown",
   "metadata": {},
   "source": [
    "Loading Data from CSV File"
   ]
  },
  {
   "cell_type": "code",
   "execution_count": 8,
   "metadata": {},
   "outputs": [],
   "source": [
    "df=pd.read_csv(\"all_060_in_12.P1.csv\")"
   ]
  },
  {
   "cell_type": "markdown",
   "metadata": {},
   "source": [
    "Display First Five Lines of Data"
   ]
  },
  {
   "cell_type": "code",
   "execution_count": 9,
   "metadata": {},
   "outputs": [
    {
     "data": {
      "text/html": [
       "<div>\n",
       "<style scoped>\n",
       "    .dataframe tbody tr th:only-of-type {\n",
       "        vertical-align: middle;\n",
       "    }\n",
       "\n",
       "    .dataframe tbody tr th {\n",
       "        vertical-align: top;\n",
       "    }\n",
       "\n",
       "    .dataframe thead th {\n",
       "        text-align: right;\n",
       "    }\n",
       "</style>\n",
       "<table border=\"1\" class=\"dataframe\">\n",
       "  <thead>\n",
       "    <tr style=\"text-align: right;\">\n",
       "      <th></th>\n",
       "      <th>GEOID</th>\n",
       "      <th>SUMLEV</th>\n",
       "      <th>STATE</th>\n",
       "      <th>COUNTY</th>\n",
       "      <th>CBSA</th>\n",
       "      <th>CSA</th>\n",
       "      <th>NECTA</th>\n",
       "      <th>CNECTA</th>\n",
       "      <th>NAME</th>\n",
       "      <th>POP100</th>\n",
       "      <th>HU100</th>\n",
       "      <th>POP100.2000</th>\n",
       "      <th>HU100.2000</th>\n",
       "      <th>P001001</th>\n",
       "      <th>P001001.2000</th>\n",
       "    </tr>\n",
       "  </thead>\n",
       "  <tbody>\n",
       "    <tr>\n",
       "      <th>0</th>\n",
       "      <td>1203191646</td>\n",
       "      <td>60</td>\n",
       "      <td>12</td>\n",
       "      <td>31</td>\n",
       "      <td>27260</td>\n",
       "      <td>999</td>\n",
       "      <td>99999</td>\n",
       "      <td>999</td>\n",
       "      <td>Jacksonville West CCD</td>\n",
       "      <td>312199</td>\n",
       "      <td>140590</td>\n",
       "      <td>NaN</td>\n",
       "      <td>NaN</td>\n",
       "      <td>312199</td>\n",
       "      <td>NaN</td>\n",
       "    </tr>\n",
       "    <tr>\n",
       "      <th>1</th>\n",
       "      <td>1211591393</td>\n",
       "      <td>60</td>\n",
       "      <td>12</td>\n",
       "      <td>115</td>\n",
       "      <td>35840</td>\n",
       "      <td>494</td>\n",
       "      <td>99999</td>\n",
       "      <td>999</td>\n",
       "      <td>Gulf Gate Estates-Osprey CCD</td>\n",
       "      <td>28287</td>\n",
       "      <td>18426</td>\n",
       "      <td>NaN</td>\n",
       "      <td>NaN</td>\n",
       "      <td>28287</td>\n",
       "      <td>NaN</td>\n",
       "    </tr>\n",
       "    <tr>\n",
       "      <th>2</th>\n",
       "      <td>1201190644</td>\n",
       "      <td>60</td>\n",
       "      <td>12</td>\n",
       "      <td>11</td>\n",
       "      <td>33100</td>\n",
       "      <td>999</td>\n",
       "      <td>99999</td>\n",
       "      <td>999</td>\n",
       "      <td>Coral Springs-Margate CCD</td>\n",
       "      <td>217025</td>\n",
       "      <td>90813</td>\n",
       "      <td>NaN</td>\n",
       "      <td>NaN</td>\n",
       "      <td>217025</td>\n",
       "      <td>NaN</td>\n",
       "    </tr>\n",
       "    <tr>\n",
       "      <th>3</th>\n",
       "      <td>1203191640</td>\n",
       "      <td>60</td>\n",
       "      <td>12</td>\n",
       "      <td>31</td>\n",
       "      <td>27260</td>\n",
       "      <td>999</td>\n",
       "      <td>99999</td>\n",
       "      <td>999</td>\n",
       "      <td>Jacksonville Beaches CCD</td>\n",
       "      <td>54535</td>\n",
       "      <td>26043</td>\n",
       "      <td>NaN</td>\n",
       "      <td>NaN</td>\n",
       "      <td>54535</td>\n",
       "      <td>NaN</td>\n",
       "    </tr>\n",
       "    <tr>\n",
       "      <th>4</th>\n",
       "      <td>1205993596</td>\n",
       "      <td>60</td>\n",
       "      <td>12</td>\n",
       "      <td>59</td>\n",
       "      <td>99999</td>\n",
       "      <td>999</td>\n",
       "      <td>99999</td>\n",
       "      <td>999</td>\n",
       "      <td>West Holmes CCD</td>\n",
       "      <td>5544</td>\n",
       "      <td>2688</td>\n",
       "      <td>NaN</td>\n",
       "      <td>NaN</td>\n",
       "      <td>5544</td>\n",
       "      <td>NaN</td>\n",
       "    </tr>\n",
       "  </tbody>\n",
       "</table>\n",
       "</div>"
      ],
      "text/plain": [
       "        GEOID  SUMLEV  STATE  COUNTY   CBSA  CSA  NECTA  CNECTA  \\\n",
       "0  1203191646      60     12      31  27260  999  99999     999   \n",
       "1  1211591393      60     12     115  35840  494  99999     999   \n",
       "2  1201190644      60     12      11  33100  999  99999     999   \n",
       "3  1203191640      60     12      31  27260  999  99999     999   \n",
       "4  1205993596      60     12      59  99999  999  99999     999   \n",
       "\n",
       "                           NAME  POP100   HU100  POP100.2000  HU100.2000  \\\n",
       "0         Jacksonville West CCD  312199  140590          NaN         NaN   \n",
       "1  Gulf Gate Estates-Osprey CCD   28287   18426          NaN         NaN   \n",
       "2     Coral Springs-Margate CCD  217025   90813          NaN         NaN   \n",
       "3      Jacksonville Beaches CCD   54535   26043          NaN         NaN   \n",
       "4               West Holmes CCD    5544    2688          NaN         NaN   \n",
       "\n",
       "   P001001  P001001.2000  \n",
       "0   312199           NaN  \n",
       "1    28287           NaN  \n",
       "2   217025           NaN  \n",
       "3    54535           NaN  \n",
       "4     5544           NaN  "
      ]
     },
     "execution_count": 9,
     "metadata": {},
     "output_type": "execute_result"
    }
   ],
   "source": [
    "df.head()"
   ]
  },
  {
   "cell_type": "code",
   "execution_count": null,
   "metadata": {},
   "outputs": [],
   "source": []
  }
 ],
 "metadata": {
  "kernelspec": {
   "display_name": "Python 3",
   "language": "python",
   "name": "python3"
  },
  "language_info": {
   "codemirror_mode": {
    "name": "ipython",
    "version": 3
   },
   "file_extension": ".py",
   "mimetype": "text/x-python",
   "name": "python",
   "nbconvert_exporter": "python",
   "pygments_lexer": "ipython3",
   "version": "3.7.6"
  }
 },
 "nbformat": 4,
 "nbformat_minor": 4
}
